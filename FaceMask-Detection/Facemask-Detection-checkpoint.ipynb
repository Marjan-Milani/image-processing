{
 "cells": [
  {
   "cell_type": "code",
   "execution_count": 1,
   "id": "032415c8",
   "metadata": {},
   "outputs": [],
   "source": [
    "import torch\n",
    "import numpy as np\n",
    "import pandas as pd\n",
    "import matplotlib.pyplot as plt\n",
    "import os"
   ]
  },
  {
   "cell_type": "code",
   "execution_count": 2,
   "id": "90fbdffa",
   "metadata": {},
   "outputs": [],
   "source": [
    "import torch.nn as nn\n",
    "import torchvision"
   ]
  },
  {
   "cell_type": "code",
   "execution_count": 3,
   "id": "c94ef89d",
   "metadata": {},
   "outputs": [],
   "source": [
    "import torch.nn.functional as F"
   ]
  },
  {
   "cell_type": "code",
   "execution_count": 4,
   "id": "12ae61a1",
   "metadata": {},
   "outputs": [],
   "source": [
    "from torchvision import datasets, transforms, models, utils"
   ]
  },
  {
   "cell_type": "code",
   "execution_count": 5,
   "id": "4ee6ac67",
   "metadata": {},
   "outputs": [],
   "source": [
    "from torch.utils.data import Dataset, DataLoader"
   ]
  },
  {
   "cell_type": "code",
   "execution_count": 6,
   "id": "bfd561fc",
   "metadata": {},
   "outputs": [],
   "source": [
    "import torchvision.transforms as transforms"
   ]
  },
  {
   "cell_type": "code",
   "execution_count": 7,
   "id": "68a821da",
   "metadata": {},
   "outputs": [
    {
     "name": "stdout",
     "output_type": "stream",
     "text": [
      "cpu\n"
     ]
    }
   ],
   "source": [
    "device = \"cuda\" if torch.cuda.is_available() else \"cpu\"\n",
    "print(device)"
   ]
  },
  {
   "cell_type": "code",
   "execution_count": 12,
   "id": "f2bc3727",
   "metadata": {},
   "outputs": [],
   "source": [
    "#!kaggle datasets download -d ashishjangra27/face-mask-12k-images-dataset"
   ]
  },
  {
   "cell_type": "code",
   "execution_count": 9,
   "id": "bd588651",
   "metadata": {
    "scrolled": true
   },
   "outputs": [],
   "source": [
    "from zipfile import ZipFile\n",
    "with ZipFile('dataset.zip', 'r') as zf:\n",
    "    zf.extractall('FaceMask-Detection-master')"
   ]
  },
  {
   "cell_type": "code",
   "execution_count": 37,
   "id": "e305b2fe",
   "metadata": {},
   "outputs": [],
   "source": [
    "data_dir = \"FaceMask-Detection-master\\Face Mask Dataset\"\n",
    "\n",
    "train_transform = torchvision.transforms.Compose([transforms.ToTensor(),\n",
    "                                                  transforms.Resize((32,32)),\n",
    "                                                  transforms.RandomCrop(32),\n",
    "                                                 ])"
   ]
  },
  {
   "cell_type": "code",
   "execution_count": 38,
   "id": "361ff912",
   "metadata": {},
   "outputs": [
    {
     "name": "stdout",
     "output_type": "stream",
     "text": [
      "torch.Size([3, 32, 32])\n"
     ]
    }
   ],
   "source": [
    "train_dataset = torchvision.datasets.ImageFolder(data_dir, transform = train_transform)\n",
    "\n",
    "trainloader = torch.utils.data.DataLoader(\n",
    "    train_dataset, batch_size=64, shuffle = True\n",
    ")\n",
    "\n",
    "print((train_dataset[0][0].shape))"
   ]
  },
  {
   "cell_type": "code",
   "execution_count": 39,
   "id": "87a98ab0",
   "metadata": {},
   "outputs": [
    {
     "name": "stdout",
     "output_type": "stream",
     "text": [
      "3\n"
     ]
    }
   ],
   "source": [
    "K = len(set(train_dataset.targets))\n",
    "print(K)"
   ]
  },
  {
   "cell_type": "code",
   "execution_count": 40,
   "id": "f91bd2c9",
   "metadata": {},
   "outputs": [],
   "source": [
    "class CNN(nn.Module):\n",
    "    def __init__(self, K):\n",
    "        super(CNN, self).__init__()\n",
    "        \n",
    "        self.conv1 = nn.Sequential(\n",
    "            nn.Conv2d(3, 32, kernel_size = 3, padding = 1),\n",
    "            nn.ReLU(),\n",
    "            nn.BatchNorm2d(32),\n",
    "            nn.MaxPool2d(2),\n",
    "        )\n",
    "        \n",
    "        self.conv2 = nn.Sequential(\n",
    "            nn.Conv2d(32, 64, kernel_size = 3, padding = 1),\n",
    "            nn.ReLU(),\n",
    "            nn.BatchNorm2d(64),\n",
    "            nn.MaxPool2d(2),\n",
    "        )\n",
    "        \n",
    "        self.conv3 = nn.Sequential(\n",
    "            nn.Conv2d(64, 128, kernel_size = 3, padding = 1),\n",
    "            nn.ReLU(),\n",
    "            nn.BatchNorm2d(128),\n",
    "            nn.MaxPool2d(2),\n",
    "        )\n",
    "        \n",
    "        self.fc1 = nn.Linear(128 * 4 * 4, 1024)\n",
    "        self.fc2 = nn.Linear(1024, 512)\n",
    "        self.fc3 = nn.Linear(512, K)\n",
    "        \n",
    "    def forward(self, x):\n",
    "        x = self.conv1(x)\n",
    "        x = self.conv2(x)\n",
    "        x = self.conv3(x)\n",
    "        x = x.view(x.size(0), -1)\n",
    "        x = F.dropout(x, p=0.12)\n",
    "        x = F.relu(self.fc1(x))\n",
    "        x = F.dropout(x, p=0.8)\n",
    "        x = F.relu(self.fc2(x))\n",
    "        x = F.dropout(x, p=0.6)\n",
    "        x = self.fc3(x)\n",
    "        return x"
   ]
  },
  {
   "cell_type": "code",
   "execution_count": 41,
   "id": "d671bcb7",
   "metadata": {},
   "outputs": [],
   "source": [
    "model = CNN(K)"
   ]
  },
  {
   "cell_type": "code",
   "execution_count": 42,
   "id": "f3d69e29",
   "metadata": {},
   "outputs": [
    {
     "data": {
      "text/plain": [
       "CNN(\n",
       "  (conv1): Sequential(\n",
       "    (0): Conv2d(3, 32, kernel_size=(3, 3), stride=(1, 1), padding=(1, 1))\n",
       "    (1): ReLU()\n",
       "    (2): BatchNorm2d(32, eps=1e-05, momentum=0.1, affine=True, track_running_stats=True)\n",
       "    (3): MaxPool2d(kernel_size=2, stride=2, padding=0, dilation=1, ceil_mode=False)\n",
       "  )\n",
       "  (conv2): Sequential(\n",
       "    (0): Conv2d(32, 64, kernel_size=(3, 3), stride=(1, 1), padding=(1, 1))\n",
       "    (1): ReLU()\n",
       "    (2): BatchNorm2d(64, eps=1e-05, momentum=0.1, affine=True, track_running_stats=True)\n",
       "    (3): MaxPool2d(kernel_size=2, stride=2, padding=0, dilation=1, ceil_mode=False)\n",
       "  )\n",
       "  (conv3): Sequential(\n",
       "    (0): Conv2d(64, 128, kernel_size=(3, 3), stride=(1, 1), padding=(1, 1))\n",
       "    (1): ReLU()\n",
       "    (2): BatchNorm2d(128, eps=1e-05, momentum=0.1, affine=True, track_running_stats=True)\n",
       "    (3): MaxPool2d(kernel_size=2, stride=2, padding=0, dilation=1, ceil_mode=False)\n",
       "  )\n",
       "  (fc1): Linear(in_features=2048, out_features=1024, bias=True)\n",
       "  (fc2): Linear(in_features=1024, out_features=512, bias=True)\n",
       "  (fc3): Linear(in_features=512, out_features=3, bias=True)\n",
       ")"
      ]
     },
     "execution_count": 42,
     "metadata": {},
     "output_type": "execute_result"
    }
   ],
   "source": [
    "model.to(device)"
   ]
  },
  {
   "cell_type": "code",
   "execution_count": 43,
   "id": "6b62f5ac",
   "metadata": {},
   "outputs": [],
   "source": [
    "criterion = nn.CrossEntropyLoss()\n",
    "optimizer = torch.optim.Adam(model.parameters())"
   ]
  },
  {
   "cell_type": "code",
   "execution_count": 44,
   "id": "42a3f6a6",
   "metadata": {},
   "outputs": [],
   "source": [
    "def facemask(model, criterion, optimizer, trainloader, epochs):\n",
    "  train_losses = np.zeros(epochs)\n",
    "\n",
    "  for i in range(epochs):\n",
    "    train_loss = []\n",
    "    for inputs, targets in trainloader:\n",
    "      inputs, targets = inputs.to(device), targets.to(device)\n",
    "\n",
    "      optimizer.zero_grad()\n",
    "\n",
    "      outputs = model(inputs)\n",
    "      loss = criterion(outputs, targets)\n",
    "\n",
    "      loss.backward()\n",
    "      optimizer.step()\n",
    "\n",
    "      train_loss.append(loss.item())\n",
    "      \n",
    "    train_loss = np.mean(train_loss)\n",
    "\n",
    "    train_losses[i] = train_loss\n",
    "\n",
    "    print(f'Epoch:{i+1}/{epochs}, Train Loss: {train_loss:.4f}')\n",
    "    \n",
    "  return train_losses"
   ]
  },
  {
   "cell_type": "code",
   "execution_count": 45,
   "id": "73770b8e",
   "metadata": {},
   "outputs": [
    {
     "name": "stdout",
     "output_type": "stream",
     "text": [
      "Epoch:1/10, Train Loss: 0.6629\n",
      "Epoch:2/10, Train Loss: 0.6085\n",
      "Epoch:3/10, Train Loss: 0.5926\n",
      "Epoch:4/10, Train Loss: 0.5903\n",
      "Epoch:5/10, Train Loss: 0.5755\n",
      "Epoch:6/10, Train Loss: 0.5776\n",
      "Epoch:7/10, Train Loss: 0.5771\n",
      "Epoch:8/10, Train Loss: 0.5660\n",
      "Epoch:9/10, Train Loss: 0.5606\n",
      "Epoch:10/10, Train Loss: 0.5609\n"
     ]
    }
   ],
   "source": [
    "train_losses = facemask(model, criterion, optimizer, trainloader, epochs=10)"
   ]
  },
  {
   "cell_type": "code",
   "execution_count": 46,
   "id": "9ebf810b",
   "metadata": {},
   "outputs": [],
   "source": [
    "PATH = \"FaceMask.pt\"\n",
    "\n",
    "# save\n",
    "\n",
    "torch.save(model, PATH)"
   ]
  },
  {
   "cell_type": "code",
   "execution_count": 47,
   "id": "a892b0e3",
   "metadata": {},
   "outputs": [
    {
     "data": {
      "text/plain": [
       "CNN(\n",
       "  (conv1): Sequential(\n",
       "    (0): Conv2d(3, 32, kernel_size=(3, 3), stride=(1, 1), padding=(1, 1))\n",
       "    (1): ReLU()\n",
       "    (2): BatchNorm2d(32, eps=1e-05, momentum=0.1, affine=True, track_running_stats=True)\n",
       "    (3): MaxPool2d(kernel_size=2, stride=2, padding=0, dilation=1, ceil_mode=False)\n",
       "  )\n",
       "  (conv2): Sequential(\n",
       "    (0): Conv2d(32, 64, kernel_size=(3, 3), stride=(1, 1), padding=(1, 1))\n",
       "    (1): ReLU()\n",
       "    (2): BatchNorm2d(64, eps=1e-05, momentum=0.1, affine=True, track_running_stats=True)\n",
       "    (3): MaxPool2d(kernel_size=2, stride=2, padding=0, dilation=1, ceil_mode=False)\n",
       "  )\n",
       "  (conv3): Sequential(\n",
       "    (0): Conv2d(64, 128, kernel_size=(3, 3), stride=(1, 1), padding=(1, 1))\n",
       "    (1): ReLU()\n",
       "    (2): BatchNorm2d(128, eps=1e-05, momentum=0.1, affine=True, track_running_stats=True)\n",
       "    (3): MaxPool2d(kernel_size=2, stride=2, padding=0, dilation=1, ceil_mode=False)\n",
       "  )\n",
       "  (fc1): Linear(in_features=2048, out_features=1024, bias=True)\n",
       "  (fc2): Linear(in_features=1024, out_features=512, bias=True)\n",
       "  (fc3): Linear(in_features=512, out_features=3, bias=True)\n",
       ")"
      ]
     },
     "execution_count": 47,
     "metadata": {},
     "output_type": "execute_result"
    }
   ],
   "source": [
    "# load\n",
    "\n",
    "model = torch.load(PATH)\n",
    "model.eval()"
   ]
  },
  {
   "cell_type": "code",
   "execution_count": 48,
   "id": "d8bfc500",
   "metadata": {},
   "outputs": [
    {
     "data": {
      "image/png": "[encoded data removed]",
      "text/plain": [
       "<Figure size 432x288 with 1 Axes>"
      ]
     },
     "metadata": {
      "needs_background": "light"
     },
     "output_type": "display_data"
    }
   ],
   "source": [
    "plt.plot(train_losses, label = \"Train Loss\")\n",
    "plt.legend()\n",
    "plt.show()"
   ]
  },
  {
   "cell_type": "code",
   "execution_count": 59,
   "id": "be6ec9d5",
   "metadata": {},
   "outputs": [
    {
     "name": "stdout",
     "output_type": "stream",
     "text": [
      "Train Accuracy: 84.814%\n"
     ]
    }
   ],
   "source": [
    "correct = 0\n",
    "total = 0\n",
    "\n",
    "for inputs, targets in trainloader:\n",
    "    inputs, targets = inputs.to(device), targets.to(device)\n",
    "\n",
    "    output = model.forward(inputs)\n",
    "\n",
    "    total += criterion(output, targets).item()\n",
    "\n",
    "    ps = torch.exp(output).data\n",
    "    equality = (targets.data == ps.max(1)[1])\n",
    "\n",
    "    correct += equality.type_as(torch.FloatTensor()).mean()\n",
    "\n",
    "print(\"Train Accuracy: {:.3f}%\".format(100 * correct/len(trainloader)))"
   ]
  },
  {
   "cell_type": "code",
   "execution_count": 60,
   "id": "fe459acb",
   "metadata": {},
   "outputs": [],
   "source": [
    "def imshow(image, ax=None, title=None):\n",
    "    \"\"\"Imshow for Tensor.\"\"\"\n",
    "    if ax is None:\n",
    "        fig, ax = plt.subplots()\n",
    "    image = image.numpy().transpose((1, 2, 0))\n",
    "\n",
    "    ax.imshow(image)\n",
    "    ax.spines['top'].set_visible(False)\n",
    "    ax.spines['right'].set_visible(False)\n",
    "    ax.spines['left'].set_visible(False)\n",
    "    ax.spines['bottom'].set_visible(False)\n",
    "    ax.tick_params(axis='both', length=0)\n",
    "    ax.set_xticklabels('')\n",
    "    ax.set_yticklabels('')\n",
    "\n",
    "    return ax"
   ]
  },
  {
   "cell_type": "code",
   "execution_count": 61,
   "id": "5b1a392d",
   "metadata": {},
   "outputs": [
    {
     "name": "stdout",
     "output_type": "stream",
     "text": [
      "torch.Size([64, 3, 32, 32]) torch.Size([64])\n"
     ]
    },
    {
     "data": {
      "image/png": "[encoded data removed]",
      "text/plain": [
       "<Figure size 720x720 with 5 Axes>"
      ]
     },
     "metadata": {
      "needs_background": "light"
     },
     "output_type": "display_data"
    }
   ],
   "source": [
    "model.to('cpu')\n",
    "model.eval()\n",
    "\n",
    "images, targets = next(iter(trainloader))\n",
    "print(images.shape, targets.shape)\n",
    "fig, axes = plt.subplots(figsize=(10, 10), ncols=5)\n",
    "\n",
    "for i in range(5):\n",
    "    ax = axes[i]\n",
    "    imshow(images[i], ax=ax)\n"
   ]
  },
  {
   "cell_type": "code",
   "execution_count": 62,
   "id": "81bb6fe2",
   "metadata": {},
   "outputs": [],
   "source": [
    "with torch.no_grad():\n",
    "    output = model.forward(images)\n",
    "\n",
    "ps = F.softmax(output,dim=1)\n"
   ]
  },
  {
   "cell_type": "code",
   "execution_count": 63,
   "id": "0656c9b8",
   "metadata": {},
   "outputs": [
    {
     "data": {
      "text/plain": [
       "37"
      ]
     },
     "execution_count": 63,
     "metadata": {},
     "output_type": "execute_result"
    }
   ],
   "source": [
    "rand_img = np.random.randint(64, size=1)[0]\n",
    "rand_img"
   ]
  },
  {
   "cell_type": "code",
   "execution_count": 140,
   "id": "8aa27ecd",
   "metadata": {},
   "outputs": [
    {
     "data": {
      "text/plain": [
       "array([0.11878214, 0.7793861 , 0.10183173], dtype=float32)"
      ]
     },
     "execution_count": 140,
     "metadata": {},
     "output_type": "execute_result"
    }
   ],
   "source": [
    "probability = ps[rand_img].data.numpy()\n",
    "probability"
   ]
  },
  {
   "cell_type": "code",
   "execution_count": 141,
   "id": "f6061c56",
   "metadata": {},
   "outputs": [
    {
     "data": {
      "text/plain": [
       "<AxesSubplot:>"
      ]
     },
     "execution_count": 141,
     "metadata": {},
     "output_type": "execute_result"
    },
    {
     "data": {
      "image/png": "[encoded data removed]",
      "text/plain": [
       "<Figure size 432x288 with 1 Axes>"
      ]
     },
     "metadata": {
      "needs_background": "light"
     },
     "output_type": "display_data"
    }
   ],
   "source": [
    "imshow(images[rand_img])"
   ]
  },
  {
   "cell_type": "code",
   "execution_count": 143,
   "id": "2adef740",
   "metadata": {},
   "outputs": [
    {
     "data": {
      "image/png": "[encoded data removed]",
      "text/plain": [
       "<Figure size 432x288 with 1 Axes>"
      ]
     },
     "metadata": {
      "needs_background": "light"
     },
     "output_type": "display_data"
    }
   ],
   "source": [
    "x = np.arange(2)\n",
    "targets = ['with mask','without mask']\n",
    "width = 0.3\n",
    "locations = ind\n",
    "\n",
    "class_probability = plt.barh (ind, probability, width, alpha=1, label = 'Face Mask')\n",
    "\n",
    "plt.yticks(np.arange(2))\n",
    "plt.title('Probability')\n",
    "plt.yticks(locations, targets)\n",
    "\n",
    "#legend\n",
    "plt.legend()\n",
    "plt.ylim(top=5)\n",
    "plt.ylim(bottom=-2)\n",
    "plt.show()"
   ]
  },
  {
   "cell_type": "code",
   "execution_count": null,
   "id": "050b9afd",
   "metadata": {},
   "outputs": [],
   "source": []
  },
  {
   "cell_type": "code",
   "execution_count": null,
   "id": "609cc447",
   "metadata": {},
   "outputs": [],
   "source": []
  }
 ],
 "metadata": {
  "kernelspec": {
   "display_name": "Python 3",
   "language": "python",
   "name": "python3"
  },
  "language_info": {
   "codemirror_mode": {
    "name": "ipython",
    "version": 3
   },
   "file_extension": ".py",
   "mimetype": "text/x-python",
   "name": "python",
   "nbconvert_exporter": "python",
   "pygments_lexer": "ipython3",
   "version": "3.9.5"
  }
 },
 "nbformat": 4,
 "nbformat_minor": 5
}
